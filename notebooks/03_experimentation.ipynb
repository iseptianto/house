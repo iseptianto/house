{
 "cells": [
  {
   "cell_type": "code",
   "execution_count": 1,
   "id": "9fcd29ac",
   "metadata": {},
   "outputs": [],
   "source": [
    "import pandas as pd\n",
    "import numpy as np\n",
    "import joblib\n",
    "import mlflow\n",
    "import mlflow.sklearn\n",
    "from sklearn.model_selection import train_test_split, GridSearchCV\n",
    "from sklearn.ensemble import RandomForestRegressor, GradientBoostingRegressor\n",
    "from sklearn.linear_model import LinearRegression\n",
    "from sklearn.metrics import mean_absolute_error, mean_squared_error, r2_score\n",
    "import xgboost as xgb\n",
    "import yaml\n",
    "import os\n",
    "import logging\n",
    "from contextlib import nullcontext\n",
    "import matplotlib.pyplot as plt\n",
    "\n",
    "logging.basicConfig(level=logging.INFO)\n",
    "logger = logging.getLogger()\n",
    "\n",
    "mlflow_tracking_uri = 'http://localhost:5555'  # Optional: e.g., 'http://localhost:5555'"
   ]
  },
  {
   "cell_type": "code",
   "execution_count": 2,
   "id": "8867c36f",
   "metadata": {},
   "outputs": [
    {
     "name": "stdout",
     "output_type": "stream",
     "text": [
      "Requirement already satisfied: pandas in c:\\users\\indra septianto\\appdata\\local\\programs\\python\\python313\\lib\\site-packages (2.2.3)\n",
      "Requirement already satisfied: numpy>=1.26.0 in c:\\users\\indra septianto\\appdata\\local\\programs\\python\\python313\\lib\\site-packages (from pandas) (2.1.2)\n",
      "Requirement already satisfied: python-dateutil>=2.8.2 in c:\\users\\indra septianto\\appdata\\local\\programs\\python\\python313\\lib\\site-packages (from pandas) (2.9.0.post0)\n",
      "Requirement already satisfied: pytz>=2020.1 in c:\\users\\indra septianto\\appdata\\local\\programs\\python\\python313\\lib\\site-packages (from pandas) (2024.2)\n",
      "Requirement already satisfied: tzdata>=2022.7 in c:\\users\\indra septianto\\appdata\\local\\programs\\python\\python313\\lib\\site-packages (from pandas) (2023.3)\n",
      "Requirement already satisfied: six>=1.5 in c:\\users\\indra septianto\\appdata\\local\\programs\\python\\python313\\lib\\site-packages (from python-dateutil>=2.8.2->pandas) (1.16.0)\n",
      "Note: you may need to restart the kernel to use updated packages.\n"
     ]
    }
   ],
   "source": [
    "pip install pandas"
   ]
  },
  {
   "cell_type": "code",
   "execution_count": 3,
   "id": "8bfa7aa8",
   "metadata": {},
   "outputs": [],
   "source": [
    "# Load dataset\n",
    "data_path = '../data/processed/featured_house_data.csv'  # Update path if needed\n",
    "data = pd.read_csv(data_path)\n",
    "X = data.drop('Price', axis=1)\n",
    "y = data['Price']\n",
    "X_train, X_test, y_train, y_test = train_test_split(X, y, test_size=0.2, random_state=42)\n"
   ]
  },
  {
   "cell_type": "code",
   "execution_count": 4,
   "id": "ea62c9b8",
   "metadata": {},
   "outputs": [
    {
     "name": "stdout",
     "output_type": "stream",
     "text": [
      "✅ Top 10 Selected Features by RFE:\n",
      " - 1\n",
      " - 5\n",
      " - 6\n",
      " - 8\n",
      " - 17\n",
      " - 37\n",
      " - 76\n",
      " - 81\n",
      " - 169\n",
      " - 173\n",
      "\n",
      "❌ Features Ignored by RFE:\n",
      " - 0\n",
      " - 2\n",
      " - 3\n",
      " - 4\n",
      " - 7\n",
      " - 9\n",
      " - 10\n",
      " - 11\n",
      " - 12\n",
      " - 13\n",
      " - 14\n",
      " - 15\n",
      " - 16\n",
      " - 18\n",
      " - 19\n",
      " - 20\n",
      " - 21\n",
      " - 22\n",
      " - 23\n",
      " - 24\n",
      " - 25\n",
      " - 26\n",
      " - 27\n",
      " - 28\n",
      " - 29\n",
      " - 30\n",
      " - 31\n",
      " - 32\n",
      " - 33\n",
      " - 34\n",
      " - 35\n",
      " - 36\n",
      " - 38\n",
      " - 39\n",
      " - 40\n",
      " - 41\n",
      " - 42\n",
      " - 43\n",
      " - 44\n",
      " - 45\n",
      " - 46\n",
      " - 47\n",
      " - 48\n",
      " - 49\n",
      " - 50\n",
      " - 51\n",
      " - 52\n",
      " - 53\n",
      " - 54\n",
      " - 55\n",
      " - 56\n",
      " - 57\n",
      " - 58\n",
      " - 59\n",
      " - 60\n",
      " - 61\n",
      " - 62\n",
      " - 63\n",
      " - 64\n",
      " - 65\n",
      " - 66\n",
      " - 67\n",
      " - 68\n",
      " - 69\n",
      " - 70\n",
      " - 71\n",
      " - 72\n",
      " - 73\n",
      " - 74\n",
      " - 75\n",
      " - 77\n",
      " - 78\n",
      " - 79\n",
      " - 80\n",
      " - 82\n",
      " - 83\n",
      " - 84\n",
      " - 85\n",
      " - 86\n",
      " - 87\n",
      " - 88\n",
      " - 89\n",
      " - 90\n",
      " - 91\n",
      " - 92\n",
      " - 93\n",
      " - 94\n",
      " - 95\n",
      " - 96\n",
      " - 97\n",
      " - 98\n",
      " - 99\n",
      " - 100\n",
      " - 101\n",
      " - 102\n",
      " - 103\n",
      " - 104\n",
      " - 105\n",
      " - 106\n",
      " - 107\n",
      " - 108\n",
      " - 109\n",
      " - 110\n",
      " - 111\n",
      " - 112\n",
      " - 113\n",
      " - 114\n",
      " - 115\n",
      " - 116\n",
      " - 117\n",
      " - 118\n",
      " - 119\n",
      " - 120\n",
      " - 121\n",
      " - 122\n",
      " - 123\n",
      " - 124\n",
      " - 125\n",
      " - 126\n",
      " - 127\n",
      " - 128\n",
      " - 129\n",
      " - 130\n",
      " - 131\n",
      " - 132\n",
      " - 133\n",
      " - 134\n",
      " - 135\n",
      " - 136\n",
      " - 137\n",
      " - 138\n",
      " - 139\n",
      " - 140\n",
      " - 141\n",
      " - 142\n",
      " - 143\n",
      " - 144\n",
      " - 145\n",
      " - 146\n",
      " - 147\n",
      " - 148\n",
      " - 149\n",
      " - 150\n",
      " - 151\n",
      " - 152\n",
      " - 153\n",
      " - 154\n",
      " - 155\n",
      " - 156\n",
      " - 157\n",
      " - 158\n",
      " - 159\n",
      " - 160\n",
      " - 161\n",
      " - 162\n",
      " - 163\n",
      " - 164\n",
      " - 165\n",
      " - 166\n",
      " - 167\n",
      " - 168\n",
      " - 170\n",
      " - 171\n",
      " - 172\n",
      " - 174\n",
      " - 175\n"
     ]
    }
   ],
   "source": [
    "from sklearn.feature_selection import RFE\n",
    "from xgboost import XGBRegressor\n",
    "\n",
    "# Use XGBoost for RFE to stay consistent\n",
    "xgb_model = XGBRegressor(objective='reg:squarederror')\n",
    "xgb_model.fit(X_train, y_train)\n",
    "\n",
    "# RFE\n",
    "rfe_selector = RFE(estimator=xgb_model, n_features_to_select=10)\n",
    "rfe_selector.fit(X_train, y_train)\n",
    "rfe_selected_features = X.columns[rfe_selector.support_]\n",
    "rfe_ignored_features = X.columns[~rfe_selector.support_]\n",
    "\n",
    "print(\"✅ Top 10 Selected Features by RFE:\")\n",
    "for feature in rfe_selected_features:\n",
    "    print(f\" - {feature}\")\n",
    "\n",
    "print(\"\\n❌ Features Ignored by RFE:\")\n",
    "for feature in rfe_ignored_features:\n",
    "    print(f\" - {feature}\")\n",
    "\n",
    "# Store for config\n",
    "selected_features_dict = {\n",
    "    'rfe': list(rfe_selected_features)\n",
    "}\n",
    "\n",
    "# Filter datasets to use only selected features for experimentation\n",
    "X_train = X_train[rfe_selected_features]\n",
    "X_test = X_test[rfe_selected_features]\n"
   ]
  },
  {
   "cell_type": "code",
   "execution_count": 6,
   "id": "056abaee",
   "metadata": {},
   "outputs": [
    {
     "name": "stderr",
     "output_type": "stream",
     "text": [
      "WARNING:urllib3.connectionpool:Retrying (JitteredRetry(total=6, connect=7, read=6, redirect=7, status=7)) after connection broken by 'ProtocolError('Connection aborted.', RemoteDisconnected('Remote end closed connection without response'))': /api/2.0/mlflow/experiments/get-by-name?experiment_name=House+Price+Prediction+Experiment\n",
      "WARNING:urllib3.connectionpool:Retrying (JitteredRetry(total=5, connect=7, read=5, redirect=7, status=7)) after connection broken by 'ProtocolError('Connection aborted.', RemoteDisconnected('Remote end closed connection without response'))': /api/2.0/mlflow/experiments/get-by-name?experiment_name=House+Price+Prediction+Experiment\n",
      "WARNING:urllib3.connectionpool:Retrying (JitteredRetry(total=4, connect=7, read=4, redirect=7, status=7)) after connection broken by 'ProtocolError('Connection aborted.', RemoteDisconnected('Remote end closed connection without response'))': /api/2.0/mlflow/experiments/get-by-name?experiment_name=House+Price+Prediction+Experiment\n",
      "WARNING:urllib3.connectionpool:Retrying (JitteredRetry(total=3, connect=7, read=3, redirect=7, status=7)) after connection broken by 'ProtocolError('Connection aborted.', RemoteDisconnected('Remote end closed connection without response'))': /api/2.0/mlflow/experiments/get-by-name?experiment_name=House+Price+Prediction+Experiment\n",
      "WARNING:urllib3.connectionpool:Retrying (JitteredRetry(total=2, connect=7, read=2, redirect=7, status=7)) after connection broken by 'ProtocolError('Connection aborted.', RemoteDisconnected('Remote end closed connection without response'))': /api/2.0/mlflow/experiments/get-by-name?experiment_name=House+Price+Prediction+Experiment\n",
      "WARNING:urllib3.connectionpool:Retrying (JitteredRetry(total=1, connect=7, read=1, redirect=7, status=7)) after connection broken by 'ProtocolError('Connection aborted.', RemoteDisconnected('Remote end closed connection without response'))': /api/2.0/mlflow/experiments/get-by-name?experiment_name=House+Price+Prediction+Experiment\n",
      "2025/10/20 17:58:38 INFO mlflow.tracking.fluent: Experiment with name 'House Price Prediction Experiment' does not exist. Creating a new experiment.\n"
     ]
    }
   ],
   "source": [
    "# Optional MLflow setup\n",
    "if mlflow_tracking_uri:\n",
    "    mlflow.set_tracking_uri(mlflow_tracking_uri)\n",
    "    mlflow.set_experiment(\"House Price Prediction Experiment\")\n"
   ]
  },
  {
   "cell_type": "code",
   "execution_count": 7,
   "id": "96df1663",
   "metadata": {},
   "outputs": [],
   "source": [
    "# Define models and hyperparameter grids\n",
    "models = {\n",
    "    'LinearRegression': LinearRegression(),\n",
    "    'RandomForest': RandomForestRegressor(),\n",
    "    'GradientBoosting': GradientBoostingRegressor(),\n",
    "    'XGBoost': xgb.XGBRegressor(objective='reg:squarederror')\n",
    "}\n",
    "\n",
    "model_grids = {\n",
    "    'LinearRegression': {},\n",
    "    'RandomForest': {\n",
    "        'n_estimators': [100, 150],\n",
    "        'max_depth': [None, 10, 20]\n",
    "    },\n",
    "    'GradientBoosting': {\n",
    "        'n_estimators': [100, 250],\n",
    "        'learning_rate': [0.1, 0.05],\n",
    "        'max_depth': [3, 10]\n",
    "    },\n",
    "    'XGBoost': {\n",
    "        'n_estimators': [100, 150],\n",
    "        'learning_rate': [0.1, 0.05],\n",
    "        'max_depth': [3, 10]\n",
    "    }\n",
    "}\n"
   ]
  },
  {
   "cell_type": "code",
   "execution_count": 8,
   "id": "5544f57a",
   "metadata": {},
   "outputs": [
    {
     "name": "stdout",
     "output_type": "stream",
     "text": [
      "MLflow tracking URI: http://localhost:5555\n"
     ]
    }
   ],
   "source": [
    "def evaluate_model_with_gridsearch(name, model, grid, X_train, y_train, X_test, y_test):\n",
    "    if grid:\n",
    "        clf = GridSearchCV(model, grid, cv=3, scoring='r2', n_jobs=-1)\n",
    "        clf.fit(X_train, y_train)\n",
    "        best_model = clf.best_estimator_\n",
    "        best_params = clf.best_params_\n",
    "    else:\n",
    "        model.fit(X_train, y_train)\n",
    "        best_model = model\n",
    "        best_params = model.get_params()\n",
    "\n",
    "    y_pred = best_model.predict(X_test)\n",
    "    mae = mean_absolute_error(y_test, y_pred)\n",
    "    mse = mean_squared_error(y_test, y_pred)\n",
    "    rmse = np.sqrt(mse)\n",
    "    r2 = r2_score(y_test, y_pred)\n",
    "\n",
    "    return {\n",
    "        'mae': mae,\n",
    "        'mse': mse,\n",
    "        'rmse': rmse,\n",
    "        'r2': r2,\n",
    "        'model': best_model,\n",
    "        'params': best_params\n",
    "    }\n",
    "\n",
    "print(\"MLflow tracking URI:\", mlflow_tracking_uri)\n"
   ]
  },
  {
   "cell_type": "code",
   "execution_count": 9,
   "id": "ff2ddc60",
   "metadata": {},
   "outputs": [
    {
     "name": "stderr",
     "output_type": "stream",
     "text": [
      "INFO:root:Training LinearRegression...\n",
      "2025/10/20 17:59:13 WARNING mlflow.models.model: `artifact_path` is deprecated. Please use `name` instead.\n",
      "2025/10/20 17:59:51 WARNING mlflow.models.model: Model logged without a signature and input example. Please set `input_example` parameter when logging the model to auto infer the model signature.\n",
      "INFO:root:Training RandomForest...\n"
     ]
    },
    {
     "name": "stdout",
     "output_type": "stream",
     "text": [
      "LinearRegression R2: 0.5191, RMSE: 2103006124.41\n",
      "🏃 View run LinearRegression at: http://localhost:5555/#/experiments/1/runs/f4cfca7552c54b72bab12fdf9375f7d6\n",
      "🧪 View experiment at: http://localhost:5555/#/experiments/1\n"
     ]
    },
    {
     "name": "stderr",
     "output_type": "stream",
     "text": [
      "2025/10/20 18:00:21 WARNING mlflow.models.model: `artifact_path` is deprecated. Please use `name` instead.\n",
      "2025/10/20 18:00:43 WARNING mlflow.models.model: Model logged without a signature and input example. Please set `input_example` parameter when logging the model to auto infer the model signature.\n"
     ]
    },
    {
     "name": "stdout",
     "output_type": "stream",
     "text": [
      "RandomForest R2: 0.5165, RMSE: 2108711716.82\n",
      "🏃 View run RandomForest at: http://localhost:5555/#/experiments/1/runs/42db0786a1c14ffc840e79e3724ee839\n",
      "🧪 View experiment at: http://localhost:5555/#/experiments/1\n"
     ]
    },
    {
     "name": "stderr",
     "output_type": "stream",
     "text": [
      "INFO:root:Training GradientBoosting...\n",
      "2025/10/20 18:01:05 WARNING mlflow.models.model: `artifact_path` is deprecated. Please use `name` instead.\n",
      "2025/10/20 18:01:27 WARNING mlflow.models.model: Model logged without a signature and input example. Please set `input_example` parameter when logging the model to auto infer the model signature.\n"
     ]
    },
    {
     "name": "stdout",
     "output_type": "stream",
     "text": [
      "GradientBoosting R2: 0.5365, RMSE: 2064505243.65\n",
      "🏃 View run GradientBoosting at: http://localhost:5555/#/experiments/1/runs/ddfad1ed9c1041bcac17e697cc222dd1\n",
      "🧪 View experiment at: http://localhost:5555/#/experiments/1\n"
     ]
    },
    {
     "name": "stderr",
     "output_type": "stream",
     "text": [
      "INFO:root:Training XGBoost...\n",
      "2025/10/20 18:01:37 WARNING mlflow.models.model: `artifact_path` is deprecated. Please use `name` instead.\n",
      "2025/10/20 18:01:54 WARNING mlflow.models.model: Model logged without a signature and input example. Please set `input_example` parameter when logging the model to auto infer the model signature.\n"
     ]
    },
    {
     "name": "stdout",
     "output_type": "stream",
     "text": [
      "XGBoost R2: 0.5026, RMSE: 2138633989.53\n",
      "🏃 View run XGBoost at: http://localhost:5555/#/experiments/1/runs/41307e7799604203b9045f708bead7f9\n",
      "🧪 View experiment at: http://localhost:5555/#/experiments/1\n",
      "🏃 View run model_comparison at: http://localhost:5555/#/experiments/1/runs/baa73218a507439d9ad1b3921b6eb539\n",
      "🧪 View experiment at: http://localhost:5555/#/experiments/1\n"
     ]
    }
   ],
   "source": [
    "results = {}\n",
    "\n",
    "with mlflow.start_run(run_name=\"model_comparison\") if mlflow_tracking_uri else nullcontext():\n",
    "    for name, model in models.items():\n",
    "        logger.info(f\"Training {name}...\")\n",
    "        with mlflow.start_run(run_name=name, nested=True) if mlflow_tracking_uri else nullcontext():\n",
    "            evaluation = evaluate_model_with_gridsearch(name, model, model_grids[name], X_train, y_train, X_test, y_test)\n",
    "            results[name] = evaluation\n",
    "\n",
    "            if mlflow_tracking_uri:\n",
    "                mlflow.log_params(evaluation['params'])\n",
    "                mlflow.log_metrics({\n",
    "                    'mae': evaluation['mae'],\n",
    "                    'mse': evaluation['mse'],\n",
    "                    'rmse': evaluation['rmse'],\n",
    "                    'r2': evaluation['r2']\n",
    "                })\n",
    "                mlflow.sklearn.log_model(evaluation['model'], artifact_path=name.lower().replace(\" \", \"_\"))\n",
    "            \n",
    "            print(f\"{name} R2: {evaluation['r2']:.4f}, RMSE: {evaluation['rmse']:.2f}\")\n"
   ]
  },
  {
   "cell_type": "code",
   "execution_count": 10,
   "id": "24d6d8bf",
   "metadata": {},
   "outputs": [
    {
     "data": {
      "image/png": "[encoded data removed]",
      "text/plain": [
       "<Figure size 1000x600 with 1 Axes>"
      ]
     },
     "metadata": {},
     "output_type": "display_data"
    },
    {
     "data": {
      "image/png": "[encoded data removed]",
      "text/plain": [
       "<Figure size 1000x600 with 1 Axes>"
      ]
     },
     "metadata": {},
     "output_type": "display_data"
    },
    {
     "data": {
      "image/png": "[encoded data removed]",
      "text/plain": [
       "<Figure size 1000x600 with 1 Axes>"
      ]
     },
     "metadata": {},
     "output_type": "display_data"
    }
   ],
   "source": [
    "def plot_model_metrics(results, metric='r2'):\n",
    "    names = list(results.keys())\n",
    "    values = [results[name][metric] for name in names]\n",
    "\n",
    "    plt.figure(figsize=(10, 6))\n",
    "    plt.bar(names, values)\n",
    "    plt.title(f'Model Comparison by {metric.upper()}')\n",
    "    plt.xlabel('Model')\n",
    "    plt.ylabel(metric.upper())\n",
    "    plt.grid(True)\n",
    "    plt.show()\n",
    "\n",
    "# Example usage:\n",
    "plot_model_metrics(results, metric='r2')\n",
    "plot_model_metrics(results, metric='rmse')\n",
    "plot_model_metrics(results, metric='mae')\n",
    "\n"
   ]
  },
  {
   "cell_type": "code",
   "execution_count": 11,
   "id": "786b22ec",
   "metadata": {},
   "outputs": [
    {
     "name": "stdout",
     "output_type": "stream",
     "text": [
      "🏆 Best Model: GradientBoosting\n",
      "   R² Score: 0.5365\n",
      "   MAE: 975618556.41\n",
      "   RMSE: 2064505243.65\n",
      "Saved model config to ../configs/model_config.yaml\n"
     ]
    }
   ],
   "source": [
    "import yaml\n",
    "\n",
    "# Save model config with selected features \n",
    "# Display information about the best model\n",
    "best_model_name = max(results, key=lambda x: results[x]['r2'])\n",
    "best_model = results[best_model_name]['model']\n",
    "best_params = best_model.get_params()\n",
    "best_r2 = float(results[best_model_name]['r2'])\n",
    "best_mae = float(results[best_model_name]['mae'])\n",
    "best_rmse = float(results[best_model_name]['rmse'])\n",
    "\n",
    "print(f\"🏆 Best Model: {best_model_name}\")\n",
    "print(f\"   R² Score: {best_r2:.4f}\")\n",
    "print(f\"   MAE: {best_mae:.2f}\")\n",
    "print(f\"   RMSE: {best_rmse:.2f}\")\n",
    "\n",
    "model_config = {\n",
    "    'model': {\n",
    "        'name': 'house_price_model',\n",
    "        'best_model': best_model_name,\n",
    "        'parameters': best_params,\n",
    "        'r2_score': best_r2,\n",
    "        'mae': best_mae,\n",
    "        'target_variable': 'price',\n",
    "        'feature_sets': selected_features_dict\n",
    "    }\n",
    "}\n",
    "\n",
    "config_path = '../configs/model_config.yaml'\n",
    "os.makedirs(os.path.dirname(config_path), exist_ok=True)\n",
    "with open(config_path, 'w') as f:\n",
    "    yaml.dump(model_config, f)\n",
    "\n",
    "print(f\"Saved model config to {config_path}\")\n"
   ]
  },
  {
   "cell_type": "code",
   "execution_count": 12,
   "id": "69310de4",
   "metadata": {},
   "outputs": [],
   "source": [
    "best_name = max(results, key=lambda k: results[k][\"r2\"])\n",
    "best_info = results[best_name]\n",
    "best_model = best_info[\"model\"]\n"
   ]
  },
  {
   "cell_type": "code",
   "execution_count": 13,
   "id": "0c95a115",
   "metadata": {},
   "outputs": [
    {
     "name": "stderr",
     "output_type": "stream",
     "text": [
      "2025/10/20 18:02:23 WARNING mlflow.models.model: `artifact_path` is deprecated. Please use `name` instead.\n",
      "2025/10/20 18:02:56 WARNING mlflow.models.model: Model logged without a signature and input example. Please set `input_example` parameter when logging the model to auto infer the model signature.\n"
     ]
    },
    {
     "name": "stdout",
     "output_type": "stream",
     "text": [
      "🏃 View run GradientBoosting_best at: http://localhost:5555/#/experiments/1/runs/1737ca777c2842c18c7e617e6b75d1db\n",
      "🧪 View experiment at: http://localhost:5555/#/experiments/1\n"
     ]
    }
   ],
   "source": [
    "import mlflow, mlflow.sklearn, joblib\n",
    "\n",
    "mlflow.set_tracking_uri(\"http://localhost:5555\")\n",
    "mlflow.set_experiment(\"House Price Prediction Experiment\")\n",
    "\n",
    "with mlflow.start_run(run_name=f\"{best_name}_best\"):\n",
    "    # params (aman di-try kalau ada estimator yg tidak expose semua param)\n",
    "    try:\n",
    "        mlflow.log_params(best_model.get_params())\n",
    "    except Exception:\n",
    "        pass\n",
    "\n",
    "    # metrics dari hasil seleksi\n",
    "    mlflow.log_metrics({\n",
    "        \"r2\":   float(best_info[\"r2\"]),\n",
    "        \"rmse\": float(best_info[\"rmse\"]),\n",
    "        \"mae\":  float(best_info[\"mae\"]),\n",
    "    })\n",
    "\n",
    "    # log sebagai MLflow Model\n",
    "    mlflow.sklearn.log_model(sk_model=best_model, artifact_path=\"model\")\n",
    "\n",
    "    # (opsional) simpan & log .pkl juga agar terlihat di Artifacts\n",
    "    joblib.dump(best_model, \"house_price_best.pkl\")\n",
    "    mlflow.log_artifact(\"house_price_best.pkl\")\n"
   ]
  }
 ],
 "metadata": {
  "kernelspec": {
   "display_name": "Python 3",
   "language": "python",
   "name": "python3"
  },
  "language_info": {
   "codemirror_mode": {
    "name": "ipython",
    "version": 3
   },
   "file_extension": ".py",
   "mimetype": "text/x-python",
   "name": "python",
   "nbconvert_exporter": "python",
   "pygments_lexer": "ipython3",
   "version": "3.13.0"
  }
 },
 "nbformat": 4,
 "nbformat_minor": 5
}
